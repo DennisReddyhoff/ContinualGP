{
 "cells": [
  {
   "cell_type": "markdown",
   "metadata": {},
   "source": [
    "# Sensor Placement Experiment Design\n",
    "\n"
   ]
  },
  {
   "cell_type": "markdown",
   "metadata": {},
   "source": [
    "### Things to examine\n",
    "\n",
    " - Need to settle on inputs to GP to start\n",
    "     - Maybe just x, y, z, t so purely spatial temportal to get a baseline model which can be deployed so that we have a full model to app pipeline?\n",
    "     - Can add additional inputs as further work\n",
    " - Local GP vs city-wide GP\n",
    "     - How does training on just Kawempe vs City-wide change predictions or choice of placements?\n",
    " - Implementation of greedy sensor algorithm\n",
    "     - Chooses next location from a pool of potential locations\n",
    "     - Need a train and test set of suitable size\n",
    " - Leave One Out Cross-Validation (LOOCV) as a tool to move sensor\n",
    "     - Move sensors from train to pool, if location is still optimal, it will be reselected? \n",
    " - If we set a maximum limit for mean uncertainty, can we find a maximum area we can predict for given number of sensors?\n",
    "     - e.g. we deploy 10 sensors, add new pool set of locations within 1km radius of Kawempe, rerun experiment\n",
    "     - How far outside original border can we deploy before uncertainty > max\n",
    " - Time scales for deployment of sensors?\n",
    "     - Every 2 weeks?\n",
    "     - 3 train, 2 test to start?\n",
    "     - 5 deployed sequentially?\n",
    "     - What is realistic maximum?\n",
    " - How do we best use boda-bodas?\n",
    "     - We need to come up with a cost function for using boda-bodas\n",
    "     - Predict pm2.5 along roads, find areas of highest uncertainty and send them there?\n",
    "     - What info would help Joel and Deo?\n",
    "     - There is a BAM sensor in Kawempe, how do we tie this with the calibration work?\n",
    "     \n",
    " \n",
    " \n",
    " "
   ]
  },
  {
   "cell_type": "markdown",
   "metadata": {},
   "source": [
    "### Stage 1\n",
    "\n",
    "- Deploy 10 sensors across diverse locations\n",
    "- Use boda-bodas to collect road data\n",
    "- Collect 4 weeks data to build initial model (enough?)\n",
    "- 7/8 sensors as train set, 2/3 + BAM as test set\n",
    "- While building dataset, use model from existing sensors to compare predictions of new network vs total network\n",
    "\n",
    "Input required:\n",
    "- Initial locations for sensors\n",
    "- Plan for boda-boda use\n",
    "\n",
    "Questions to answer:\n",
    "\n",
    "- How does model performance (predicted pm2.5 at test locations) vary if trained on just the 10 deployed sensors vs. all kampala sensors? \n",
    "- How can we incorporate \"localness\" of a prediction in our model?\n",
    "\n",
    "### Stage 2\n",
    "\n",
    "- Possible deployment locations added to pool set\n",
    "- Deploy a new sensor on a weekly basis (feasible?)\n",
    "- 10 weeks for total deployment\n",
    "- Collect another 4 weeks of data when fully deployed to act as new baseline\n",
    "\n",
    "Input required:\n",
    "- List of potential locations for deployment to act as pool set (can be larger than 10)\n",
    "\n",
    "Questions to answer:\n",
    "- If we wish to deploy 10 sensors, 1 per week for 10 weeks, how can we best select the next location? \n",
    "- If we train a new model on the 4 week, 20 sensor dataset, how do different selection algorithms compare?\n",
    "\n",
    "### Stage 3\n",
    "\n",
    "- Start LOOCV\n",
    "    - split data into n splits, removing data for one sensor in each split\n",
    "    - add data to validation set\n",
    "    - train model on remaining data\n",
    "    - get validation and test error\n",
    "    - use model with lowest error to select next sensor\n",
    "    \n",
    "Input required:\n",
    "- N/A\n",
    "\n",
    "Questions to answer:\n",
    "- Given 20 deployed sensors, if we wish to relocate one sensor per week with the aim of minimizing mean uncertainty over Kawempe, how do we choose the best location? (or should we move the sensor at all?)\n",
    "\n",
    "### Stage 4\n",
    "\n",
    "If we achieve objective of an accuracy of +/- 15% of actual value at 95% confidence interval across 90% of the area calculated hourly we can begin to expand our pool sensors out of Kawempe\n",
    "\n",
    "Input required:\n",
    "- New pool locations within an agreed distance from Kawempe\n",
    "\n",
    "Question to answer: \n",
    "- Given a fixed total number of sensors, how large an area can be covered whilst still achieving our minimum accuracy threshold?"
   ]
  },
  {
   "cell_type": "code",
   "execution_count": null,
   "metadata": {},
   "outputs": [],
   "source": []
  }
 ],
 "metadata": {
  "kernelspec": {
   "display_name": "Python 3",
   "language": "python",
   "name": "python3"
  },
  "language_info": {
   "codemirror_mode": {
    "name": "ipython",
    "version": 3
   },
   "file_extension": ".py",
   "mimetype": "text/x-python",
   "name": "python",
   "nbconvert_exporter": "python",
   "pygments_lexer": "ipython3",
   "version": "3.7.6"
  }
 },
 "nbformat": 4,
 "nbformat_minor": 4
}
