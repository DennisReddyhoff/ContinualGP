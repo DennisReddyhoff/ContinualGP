{
 "cells": [
  {
   "cell_type": "code",
   "execution_count": 172,
   "metadata": {},
   "outputs": [],
   "source": [
    "%matplotlib inline\n",
    "import itertools\n",
    "import numpy as np\n",
    "import time\n",
    "import gpflow\n",
    "import tensorflow as tf\n",
    "import matplotlib.pyplot as plt\n",
    "from gpflow.ci_utils import ci_niter\n",
    "from gpflow.utilities import print_summary, set_trainable, deepcopy\n",
    "from IPython.display import clear_output\n",
    "from tensorflow_probability import distributions as tfd\n",
    "import tensorflow_probability as tfp\n",
    "# for reproducibility of this notebook:\n",
    "tf.random.set_seed(42)\n",
    "import time"
   ]
  },
  {
   "cell_type": "code",
   "execution_count": 2,
   "metadata": {},
   "outputs": [],
   "source": [
    "def pollution(x,y,t):\n",
    "    pm25 = 3 + (0.4*np.sin(t/300) + 0.1*np.cos(t/200) +0.3*np.cos(t/5) + 0.3*np.sin(x) + 0.5*np.sin(y))\n",
    "    return pm25"
   ]
  },
  {
   "cell_type": "markdown",
   "metadata": {},
   "source": [
    "Initialise x = 0..10, y=0..10 grid\n",
    "\n",
    "Place 5 training sensors\n",
    "\n",
    "Choose 10 pool locations\n",
    "\n",
    "Choose 5 test locations"
   ]
  },
  {
   "cell_type": "code",
   "execution_count": 3,
   "metadata": {},
   "outputs": [
    {
     "data": {
      "text/plain": [
       "<matplotlib.collections.PathCollection at 0x1e54e29a1c8>"
      ]
     },
     "execution_count": 3,
     "metadata": {},
     "output_type": "execute_result"
    },
    {
     "data": {
      "image/png": "[encoded data removed]",
      "text/plain": [
       "<Figure size 432x288 with 1 Axes>"
      ]
     },
     "metadata": {
      "needs_background": "light"
     },
     "output_type": "display_data"
    }
   ],
   "source": [
    "sensorx = [1, 1, 2, 4, 5,7, 8, 9 , 9, 5]\n",
    "sensory = [1, 9, 5, 4, 5, 2, 6, 1, 9, 8]\n",
    "plt.xlim(0, 10)\n",
    "plt.ylim(0, 10)\n",
    "plt.scatter(sensorx,sensory)"
   ]
  },
  {
   "cell_type": "code",
   "execution_count": 295,
   "metadata": {},
   "outputs": [
    {
     "data": {
      "text/plain": [
       "array([2.04926499, 7.44120526, 4.99869482, 4.19922524, 1.31006764,\n",
       "       9.8068802 , 9.11648203, 9.08854566, 1.6681527 , 5.68458093])"
      ]
     },
     "execution_count": 295,
     "metadata": {},
     "output_type": "execute_result"
    }
   ],
   "source": [
    "10*np.random.random_sample(10)"
   ]
  },
  {
   "cell_type": "code",
   "execution_count": 4,
   "metadata": {},
   "outputs": [],
   "source": [
    "Nt = 24*180\n",
    "training_set = []\n",
    "for t in range(Nt):\n",
    "    for i in range(len(sensorx)):\n",
    "        pm25 = pollution(sensorx[i], sensory[i], t)\n",
    "        training_set.append([sensorx[i], sensory[i], t, np.random.normal(pm25,scale=1.1)])\n",
    "training_set = np.array(training_set)"
   ]
  },
  {
   "cell_type": "code",
   "execution_count": 5,
   "metadata": {},
   "outputs": [
    {
     "data": {
      "text/plain": [
       "4320"
      ]
     },
     "execution_count": 5,
     "metadata": {},
     "output_type": "execute_result"
    }
   ],
   "source": [
    "Nt"
   ]
  },
  {
   "cell_type": "code",
   "execution_count": 8,
   "metadata": {},
   "outputs": [
    {
     "data": {
      "text/plain": [
       "<matplotlib.collections.PathCollection at 0x1e54e399788>"
      ]
     },
     "execution_count": 8,
     "metadata": {},
     "output_type": "execute_result"
    },
    {
     "data": {
      "image/png": "[encoded data removed]",
      "text/plain": [
       "<Figure size 432x288 with 1 Axes>"
      ]
     },
     "metadata": {
      "needs_background": "light"
     },
     "output_type": "display_data"
    }
   ],
   "source": [
    "testx = 10*np.random.rand(5)\n",
    "testy = 10*np.random.rand(5)\n",
    "test_locations = [[testx[i],testy[i]] for i in range(len(testx))]\n",
    "test_locations= np.array(test_locations)\n",
    "plt.scatter(test_locations[:,0], test_locations[:,1])"
   ]
  },
  {
   "cell_type": "code",
   "execution_count": 9,
   "metadata": {},
   "outputs": [
    {
     "data": {
      "text/plain": [
       "<matplotlib.collections.PathCollection at 0x1e54e401a88>"
      ]
     },
     "execution_count": 9,
     "metadata": {},
     "output_type": "execute_result"
    },
    {
     "data": {
      "image/png": "[encoded data removed]",
      "text/plain": [
       "<Figure size 432x288 with 1 Axes>"
      ]
     },
     "metadata": {
      "needs_background": "light"
     },
     "output_type": "display_data"
    }
   ],
   "source": [
    "poolx = 10*np.random.rand(10)\n",
    "pooly = 10*np.random.rand(10)\n",
    "pool_locations = [[poolx[i],pooly[i]] for i in range(len(poolx))]\n",
    "pool_locations = np.array(pool_locations)\n",
    "plt.scatter(pool_locations[:,0], pool_locations[:,1])"
   ]
  },
  {
   "cell_type": "code",
   "execution_count": 276,
   "metadata": {},
   "outputs": [
    {
     "data": {
      "text/html": [
       "&lt;gpflow.models.sgpr.SGPR object at 0x000001E52E17EC48&gt;\n",
       "<table>\n",
       "<thead>\n",
       "<tr><th>name                               </th><th>class    </th><th>transform       </th><th>prior  </th><th>trainable  </th><th>shape  </th><th>dtype  </th><th>value                               </th></tr>\n",
       "</thead>\n",
       "<tbody>\n",
       "<tr><td>SGPR.kernel.kernels[0].variance    </td><td>Parameter</td><td>Softplus        </td><td>       </td><td>True       </td><td>()     </td><td>float64</td><td>1.0                                 </td></tr>\n",
       "<tr><td>SGPR.kernel.kernels[0].lengthscales</td><td>Parameter</td><td>Softplus        </td><td>       </td><td>True       </td><td>(3,)   </td><td>float64</td><td>[  1.   1. 500.]                    </td></tr>\n",
       "<tr><td>SGPR.kernel.kernels[1].variance    </td><td>Parameter</td><td>Softplus        </td><td>       </td><td>True       </td><td>()     </td><td>float64</td><td>1.0                                 </td></tr>\n",
       "<tr><td>SGPR.likelihood.variance           </td><td>Parameter</td><td>Softplus + Shift</td><td>       </td><td>True       </td><td>()     </td><td>float64</td><td>1.0                                 </td></tr>\n",
       "<tr><td>SGPR.inducing_variable.Z           </td><td>Parameter</td><td>                </td><td>       </td><td>False      </td><td>(40, 3)</td><td>float64</td><td>[[2.000e+00, 5.000e+00, 1.561e+03...</td></tr>\n",
       "</tbody>\n",
       "</table>"
      ],
      "text/plain": [
       "<gpflow.models.sgpr.SGPR object at 0x000001E52E17EC48>\n",
       "╒═════════════════════════════════════╤═══════════╤══════════════════╤═════════╤═════════════╤═════════╤═════════╤══════════════════════════════════════╕\n",
       "│ name                                │ class     │ transform        │ prior   │ trainable   │ shape   │ dtype   │ value                                │\n",
       "╞═════════════════════════════════════╪═══════════╪══════════════════╪═════════╪═════════════╪═════════╪═════════╪══════════════════════════════════════╡\n",
       "│ SGPR.kernel.kernels[0].variance     │ Parameter │ Softplus         │         │ True        │ ()      │ float64 │ 1.0                                  │\n",
       "├─────────────────────────────────────┼───────────┼──────────────────┼─────────┼─────────────┼─────────┼─────────┼──────────────────────────────────────┤\n",
       "│ SGPR.kernel.kernels[0].lengthscales │ Parameter │ Softplus         │         │ True        │ (3,)    │ float64 │ [  1.   1. 500.]                     │\n",
       "├─────────────────────────────────────┼───────────┼──────────────────┼─────────┼─────────────┼─────────┼─────────┼──────────────────────────────────────┤\n",
       "│ SGPR.kernel.kernels[1].variance     │ Parameter │ Softplus         │         │ True        │ ()      │ float64 │ 1.0                                  │\n",
       "├─────────────────────────────────────┼───────────┼──────────────────┼─────────┼─────────────┼─────────┼─────────┼──────────────────────────────────────┤\n",
       "│ SGPR.likelihood.variance            │ Parameter │ Softplus + Shift │         │ True        │ ()      │ float64 │ 1.0                                  │\n",
       "├─────────────────────────────────────┼───────────┼──────────────────┼─────────┼─────────────┼─────────┼─────────┼──────────────────────────────────────┤\n",
       "│ SGPR.inducing_variable.Z            │ Parameter │                  │         │ False       │ (40, 3) │ float64 │ [[2.000e+00, 5.000e+00, 1.561e+03... │\n",
       "╘═════════════════════════════════════╧═══════════╧══════════════════╧═════════╧═════════════╧═════════╧═════════╧══════════════════════════════════════╛"
      ]
     },
     "execution_count": 276,
     "metadata": {},
     "output_type": "execute_result"
    }
   ],
   "source": [
    "#idx = [i for i in range(len(training_set))]\n",
    "#idx = np.random.choice(idx, size=int(0.2*len(training_set)))\n",
    "X = training_set[:,0:3]\n",
    "Y = training_set[:,3][:,None]\n",
    "Zid = np.random.choice(range(len(X)), size = 40)\n",
    "Z = X[Zid]\n",
    "k = gpflow.kernels.RBF(active_dims=[0,1,2], lengthscales=[1, 1, 500]) + (\n",
    "    gpflow.kernels.Bias(active_dims=[0,1,2]))\n",
    "m = gpflow.models.SGPR(data=(X,Y), inducing_variable = Z, kernel=k)\n",
    "#m.kernel.variance.assign(10)\n",
    "gpflow.set_trainable(m.inducing_variable, False)\n",
    "m\n"
   ]
  },
  {
   "cell_type": "code",
   "execution_count": 223,
   "metadata": {},
   "outputs": [
    {
     "data": {
      "text/plain": [
       "(<tf.Tensor: shape=(43200, 3), dtype=float64, numpy=\n",
       " array([[1.000e+00, 1.000e+00, 0.000e+00],\n",
       "        [1.000e+00, 9.000e+00, 0.000e+00],\n",
       "        [2.000e+00, 5.000e+00, 0.000e+00],\n",
       "        ...,\n",
       "        [9.000e+00, 1.000e+00, 4.319e+03],\n",
       "        [9.000e+00, 9.000e+00, 4.319e+03],\n",
       "        [5.000e+00, 8.000e+00, 4.319e+03]])>,\n",
       " <tf.Tensor: shape=(43200, 1), dtype=float64, numpy=\n",
       " array([[4.23562685],\n",
       "        [0.78445575],\n",
       "        [2.46238045],\n",
       "        ...,\n",
       "        [2.64833829],\n",
       "        [4.29529333],\n",
       "        [4.1837952 ]])>)"
      ]
     },
     "execution_count": 223,
     "metadata": {},
     "output_type": "execute_result"
    }
   ],
   "source": [
    "m.data"
   ]
  },
  {
   "cell_type": "code",
   "execution_count": 224,
   "metadata": {
    "scrolled": true
   },
   "outputs": [
    {
     "data": {
      "text/plain": [
       "array([[0.00000000e+00, 0.00000000e+00, 4.34400000e+03],\n",
       "       [2.56410256e-01, 0.00000000e+00, 4.34400000e+03],\n",
       "       [5.12820513e-01, 0.00000000e+00, 4.34400000e+03],\n",
       "       ...,\n",
       "       [9.48717949e+00, 1.00000000e+01, 4.34400000e+03],\n",
       "       [9.74358974e+00, 1.00000000e+01, 4.34400000e+03],\n",
       "       [1.00000000e+01, 1.00000000e+01, 4.34400000e+03]])"
      ]
     },
     "execution_count": 224,
     "metadata": {},
     "output_type": "execute_result"
    }
   ],
   "source": [
    "Xgrid, Ygrid = np.meshgrid(np.linspace(0,10,40),np.linspace(0,10,40))\n",
    "Xtest = np.array([np.reshape(Xgrid,(-1,)).T,np.reshape(Ygrid,(-1,))]).T\n",
    "Xtest = np.c_[Xtest,(Nt+24)*np.ones(len(Xtest))]\n",
    "Xtest"
   ]
  },
  {
   "cell_type": "code",
   "execution_count": 252,
   "metadata": {
    "scrolled": true
   },
   "outputs": [
    {
     "data": {
      "text/plain": [
       "<matplotlib.colorbar.Colorbar at 0x1e53606a788>"
      ]
     },
     "execution_count": 252,
     "metadata": {},
     "output_type": "execute_result"
    },
    {
     "data": {
      "image/png": "[encoded data removed]",
      "text/plain": [
       "<Figure size 432x288 with 2 Axes>"
      ]
     },
     "metadata": {
      "needs_background": "light"
     },
     "output_type": "display_data"
    }
   ],
   "source": [
    "plt.contourf(Xgrid, Ygrid, pollution(Xgrid,Ygrid,Nt+24))\n",
    "plt.colorbar()"
   ]
  },
  {
   "cell_type": "code",
   "execution_count": 277,
   "metadata": {},
   "outputs": [
    {
     "data": {
      "text/plain": [
       "<matplotlib.colorbar.Colorbar at 0x1e52e038888>"
      ]
     },
     "execution_count": 277,
     "metadata": {},
     "output_type": "execute_result"
    },
    {
     "data": {
      "image/png": "[encoded data removed]",
      "text/plain": [
       "<Figure size 432x288 with 2 Axes>"
      ]
     },
     "metadata": {
      "needs_background": "light"
     },
     "output_type": "display_data"
    }
   ],
   "source": [
    "mean, var = m.predict_f(Xtest)\n",
    "plt.contourf(Xgrid, Ygrid, mean.numpy().reshape(40,40))\n",
    "plt.colorbar()"
   ]
  },
  {
   "cell_type": "code",
   "execution_count": 278,
   "metadata": {},
   "outputs": [],
   "source": [
    "def run_adam(model, iterations):\n",
    "    \"\"\"\n",
    "    Utility function running the Adam optimizer\n",
    "\n",
    "    :param model: GPflow model\n",
    "    :param interations: number of iterations\n",
    "    :param data: observed data set\n",
    "    :return logf: model training loss\n",
    "    \"\"\"\n",
    "    # Create an Adam Optimizer action\n",
    "    logf = []\n",
    "    training_loss = model.training_loss\n",
    "    optimizer = tf.optimizers.Adam()\n",
    "\n",
    "    @tf.function\n",
    "    def optimization_step():\n",
    "        optimizer.minimize(training_loss, model.trainable_variables)\n",
    "\n",
    "    # Optimize variational parameters \n",
    "    tic = time.perf_counter()\n",
    "    for step in range(iterations):\n",
    "        optimization_step()\n",
    "        if step % 20 == 0:\n",
    "            loss = training_loss().numpy()\n",
    "            logf.append(loss)\n",
    "            clear_output(wait=True)\n",
    "            print(\"iteration {}\".format(step))            \n",
    "    toc = time.perf_counter()\n",
    "    elapsed = toc-tic\n",
    "    per_iter = elapsed/iterations\n",
    "    print(\"Trained for {} iterations in {:.2f} seconds, average {:.2f} seconds per iteration\".format(\n",
    "                                                                                                    iterations, \n",
    "                                                                                                    elapsed, \n",
    "                                                                                                    per_iter))\n",
    "    return logf"
   ]
  },
  {
   "cell_type": "code",
   "execution_count": 281,
   "metadata": {},
   "outputs": [
    {
     "name": "stdout",
     "output_type": "stream",
     "text": [
      "iteration 3980\n",
      "Trained for 4000 iterations in 363.02 seconds, average 0.09 seconds per iteration\n"
     ]
    },
    {
     "data": {
      "text/plain": [
       "[<matplotlib.lines.Line2D at 0x1e535997a48>]"
      ]
     },
     "execution_count": 281,
     "metadata": {},
     "output_type": "execute_result"
    },
    {
     "data": {
      "image/png": "[encoded data removed]",
      "text/plain": [
       "<Figure size 432x288 with 1 Axes>"
      ]
     },
     "metadata": {
      "needs_background": "light"
     },
     "output_type": "display_data"
    }
   ],
   "source": [
    "loss = run_adam(m,4000)\n",
    "plt.plot(np.linspace(0,len(loss),len(loss))*20,loss)"
   ]
  },
  {
   "cell_type": "markdown",
   "metadata": {},
   "source": [
    "N_Z = 10, 0.02s/iter. N_Z = 20, 0.04s/iter. N_Z = 40, 0.09s/iter"
   ]
  },
  {
   "cell_type": "code",
   "execution_count": 282,
   "metadata": {},
   "outputs": [
    {
     "data": {
      "text/plain": [
       "<matplotlib.colorbar.Colorbar at 0x1e5357f0148>"
      ]
     },
     "execution_count": 282,
     "metadata": {},
     "output_type": "execute_result"
    },
    {
     "data": {
      "image/png": "[encoded data removed]",
      "text/plain": [
       "<Figure size 432x288 with 2 Axes>"
      ]
     },
     "metadata": {
      "needs_background": "light"
     },
     "output_type": "display_data"
    }
   ],
   "source": [
    "mean, var = m.predict_f(Xtest)\n",
    "plt.contourf(Xgrid, Ygrid, mean.numpy().reshape(40,40))\n",
    "plt.colorbar()"
   ]
  },
  {
   "cell_type": "code",
   "execution_count": null,
   "metadata": {},
   "outputs": [],
   "source": [
    "Xtest"
   ]
  },
  {
   "cell_type": "code",
   "execution_count": 296,
   "metadata": {},
   "outputs": [
    {
     "ename": "TypeError",
     "evalue": "mean_absolute_error() missing 2 required positional arguments: 'y_true' and 'y_pred'",
     "output_type": "error",
     "traceback": [
      "\u001b[1;31m---------------------------------------------------------------------------\u001b[0m",
      "\u001b[1;31mTypeError\u001b[0m                                 Traceback (most recent call last)",
      "\u001b[1;32m<ipython-input-296-16225bc06265>\u001b[0m in \u001b[0;36m<module>\u001b[1;34m\u001b[0m\n\u001b[1;32m----> 1\u001b[1;33m \u001b[0mtf\u001b[0m\u001b[1;33m.\u001b[0m\u001b[0mlosses\u001b[0m\u001b[1;33m.\u001b[0m\u001b[0mMAE\u001b[0m\u001b[1;33m(\u001b[0m\u001b[1;33m)\u001b[0m\u001b[1;33m\u001b[0m\u001b[1;33m\u001b[0m\u001b[0m\n\u001b[0m",
      "\u001b[1;31mTypeError\u001b[0m: mean_absolute_error() missing 2 required positional arguments: 'y_true' and 'y_pred'"
     ]
    }
   ],
   "source": [
    "tf.losses.MAE()"
   ]
  },
  {
   "cell_type": "code",
   "execution_count": 318,
   "metadata": {},
   "outputs": [],
   "source": [
    "k = np.linspace(0, 24, 100)"
   ]
  },
  {
   "cell_type": "code",
   "execution_count": 369,
   "metadata": {},
   "outputs": [
    {
     "data": {
      "text/plain": [
       "[<matplotlib.lines.Line2D at 0x1e53a5e0508>]"
      ]
     },
     "execution_count": 369,
     "metadata": {},
     "output_type": "execute_result"
    },
    {
     "data": {
      "image/png": "[encoded data removed]",
      "text/plain": [
       "<Figure size 432x288 with 1 Axes>"
      ]
     },
     "metadata": {
      "needs_background": "light"
     },
     "output_type": "display_data"
    }
   ],
   "source": [
    "plt.plot(k,(0.2*np.sin(((k+6)*(np.pi/6)))+1))"
   ]
  },
  {
   "cell_type": "code",
   "execution_count": 100,
   "metadata": {},
   "outputs": [
    {
     "name": "stdout",
     "output_type": "stream",
     "text": [
      "test1\n"
     ]
    }
   ],
   "source": [
    "import ipywidgets as widgets\n",
    "import time\n",
    "from IPython.display import clear_output\n",
    "out = widgets.Output()\n",
    "print(\"test1\")\n",
    "out\n",
    "@out.capture()\n",
    "def print_step(step):\n",
    "    print(\"test2\")\n",
    "for i in range(10):\n",
    "    print_step(i)"
   ]
  },
  {
   "cell_type": "code",
   "execution_count": 197,
   "metadata": {},
   "outputs": [],
   "source": [
    "class Print_Step:\n",
    "    \n",
    "    def __init__(self):\n",
    "        self.step = str\n",
    "        self.iter = str\n",
    "        self._summary = \"\"\n",
    "        self.vars = list\n",
    "        \n",
    "    def __call__(self):\n",
    "        clear_output(wait=True)\n",
    "        if self._summary: \n",
    "            print(self._summary)\n",
    "        print(\"First loop: {}, Second loop: {}\".format(self.step,self.iter))\n",
    "        self.vars = [1, 1]\n",
    "        time.sleep(0.15)\n",
    "        \n",
    "    def update(self):\n",
    "        if self._summary:\n",
    "            sep = \"\\n\"\n",
    "        else:\n",
    "            sep = \"\"\n",
    "        self._summary = sep.join((self._summary, \"Loop summary {}: {}, {}\".format(self.step, self.vars[0], self.vars[1])))\n",
    "        \n",
    "    def summary(self):\n",
    "        clear_output(wait=True)\n",
    "        print(self._summary)"
   ]
  },
  {
   "cell_type": "code",
   "execution_count": 200,
   "metadata": {},
   "outputs": [],
   "source": [
    "def print_func(print_step):\n",
    "    for i in range(5):\n",
    "        print_step.iter=i\n",
    "        print_step()\n",
    "        \n",
    "def main_func():   \n",
    "    print_step=Print_Step()\n",
    "    \n",
    "    for i in range(5):\n",
    "        print_step.step=i\n",
    "        print_func(print_step)\n",
    "        print_step.update()\n",
    "    \n",
    "    print_step.summary()"
   ]
  },
  {
   "cell_type": "code",
   "execution_count": 202,
   "metadata": {},
   "outputs": [
    {
     "name": "stdout",
     "output_type": "stream",
     "text": [
      "Loop summary 0: 1, 1\n",
      "Loop summary 1: 1, 1\n",
      "Loop summary 2: 1, 1\n",
      "Loop summary 3: 1, 1\n",
      "Loop summary 4: 1, 1\n"
     ]
    }
   ],
   "source": [
    "main_func()"
   ]
  },
  {
   "cell_type": "code",
   "execution_count": 204,
   "metadata": {},
   "outputs": [
    {
     "data": {
      "text/plain": [
       "False"
      ]
     },
     "execution_count": 204,
     "metadata": {},
     "output_type": "execute_result"
    }
   ],
   "source": [
    "bool(\"\")"
   ]
  },
  {
   "cell_type": "code",
   "execution_count": null,
   "metadata": {},
   "outputs": [],
   "source": []
  }
 ],
 "metadata": {
  "kernelspec": {
   "display_name": "Python 3",
   "language": "python",
   "name": "python3"
  },
  "language_info": {
   "codemirror_mode": {
    "name": "ipython",
    "version": 3
   },
   "file_extension": ".py",
   "mimetype": "text/x-python",
   "name": "python",
   "nbconvert_exporter": "python",
   "pygments_lexer": "ipython3",
   "version": "3.7.6"
  }
 },
 "nbformat": 4,
 "nbformat_minor": 4
}
